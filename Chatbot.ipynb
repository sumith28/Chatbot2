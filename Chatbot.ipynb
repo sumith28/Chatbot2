{
 "cells": [
  {
   "cell_type": "code",
   "execution_count": null,
   "id": "9150c132-0e86-4084-a9f9-a727ed61c0d3",
   "metadata": {},
   "outputs": [
    {
     "name": "stderr",
     "output_type": "stream",
     "text": [
      "[nltk_data] Downloading package punkt to C:\\Users\\P\n",
      "[nltk_data]     Pavithra\\AppData\\Roaming\\nltk_data...\n",
      "[nltk_data]   Package punkt is already up-to-date!\n"
     ]
    },
    {
     "name": "stdin",
     "output_type": "stream",
     "text": [
      "You:  hi\n"
     ]
    },
    {
     "name": "stdout",
     "output_type": "stream",
     "text": [
      "Chatbot: I'm fine, thank you\n"
     ]
    },
    {
     "name": "stdin",
     "output_type": "stream",
     "text": [
      "You:  what is equation\n"
     ]
    },
    {
     "name": "stdout",
     "output_type": "stream",
     "text": [
      "Chatbot: An equation is a mathematical statement that shows the equality of two expressions by using the '=' sign.\n"
     ]
    },
    {
     "name": "stdin",
     "output_type": "stream",
     "text": [
      "You:  what is an ssd\n"
     ]
    },
    {
     "name": "stdout",
     "output_type": "stream",
     "text": [
      "Chatbot: Hello\n"
     ]
    },
    {
     "name": "stdin",
     "output_type": "stream",
     "text": [
      "You:  ssd\n"
     ]
    },
    {
     "name": "stdout",
     "output_type": "stream",
     "text": [
      "Chatbot: Hi there\n"
     ]
    },
    {
     "name": "stdin",
     "output_type": "stream",
     "text": [
      "You:  shutup\n"
     ]
    },
    {
     "name": "stdout",
     "output_type": "stream",
     "text": [
      "Chatbot: Nothing much\n"
     ]
    },
    {
     "name": "stdin",
     "output_type": "stream",
     "text": [
      "You:  anagonda\n"
     ]
    },
    {
     "name": "stdout",
     "output_type": "stream",
     "text": [
      "Chatbot: Hey\n"
     ]
    }
   ],
   "source": [
    "import os\n",
    "import json\n",
    "import random\n",
    "import nltk\n",
    "from sklearn.feature_extraction.text import TfidfVectorizer\n",
    "from sklearn.linear_model import LogisticRegression\n",
    "\n",
    "# Download nltk data (if not already done)\n",
    "nltk.download('punkt')\n",
    "\n",
    "# Load your custom large intents.json dataset\n",
    "file_path = os.path.abspath(\"C:\\\\Users\\\\P Pavithra\\\\Documents\\\\intents.json\")  # Update with the path to your file\n",
    "with open(file_path, \"r\") as file:\n",
    "    intents = json.load(file)\n",
    "\n",
    "# Initialize vectorizer and classifier\n",
    "vectorizer = TfidfVectorizer()\n",
    "clf = LogisticRegression(random_state=0, max_iter=100000)\n",
    "\n",
    "# Extract patterns and tags\n",
    "tags = []\n",
    "patterns = []\n",
    "for intent in intents['intents']:\n",
    "    for pattern in intent['patterns']:\n",
    "        tags.append(intent['tag'])\n",
    "        patterns.append(pattern)\n",
    "\n",
    "# Transform the patterns into TF-IDF vectors\n",
    "x = vectorizer.fit_transform(patterns)\n",
    "y = tags\n",
    "\n",
    "# Train the Logistic Regression classifier\n",
    "clf.fit(x, y)\n",
    "\n",
    "# Chatbot function\n",
    "def chatbot(input_text):\n",
    "    input_text_vector = vectorizer.transform([input_text])\n",
    "    predicted_tag = clf.predict(input_text_vector)[0]\n",
    "    \n",
    "    # Match the tag to its response\n",
    "    for intent in intents['intents']:\n",
    "        if intent['tag'] == predicted_tag:\n",
    "            return random.choice(intent['responses'])\n",
    "    \n",
    "    return \"I'm sorry, I didn't understand that.\"\n",
    "\n",
    "# Interactive Chat in Jupyter\n",
    "while True:\n",
    "    user_input = input(\"You: \")\n",
    "    if user_input.lower() in ['quit', 'exit']:\n",
    "        print(\"Chatbot: Goodbye!\")\n",
    "        break\n",
    "    print(f\"Chatbot: {chatbot(user_input)}\")\n"
   ]
  },
  {
   "cell_type": "code",
   "execution_count": null,
   "id": "a56aa095-a255-48d7-9ed0-98d253e303bd",
   "metadata": {},
   "outputs": [],
   "source": []
  },
  {
   "cell_type": "code",
   "execution_count": null,
   "id": "a8566085-2d9c-48a9-87cb-d6e2c6b62882",
   "metadata": {},
   "outputs": [],
   "source": []
  }
 ],
 "metadata": {
  "kernelspec": {
   "display_name": "Python [conda env:base] *",
   "language": "python",
   "name": "conda-base-py"
  },
  "language_info": {
   "codemirror_mode": {
    "name": "ipython",
    "version": 3
   },
   "file_extension": ".py",
   "mimetype": "text/x-python",
   "name": "python",
   "nbconvert_exporter": "python",
   "pygments_lexer": "ipython3",
   "version": "3.12.7"
  }
 },
 "nbformat": 4,
 "nbformat_minor": 5
}
